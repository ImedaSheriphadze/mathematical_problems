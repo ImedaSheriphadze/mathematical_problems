{
  "nbformat": 4,
  "nbformat_minor": 0,
  "metadata": {
    "colab": {
      "provenance": [],
      "gpuType": "T4",
      "authorship_tag": "ABX9TyNC2zGLyn1vOmDaDxIvlh2m"
    },
    "kernelspec": {
      "name": "python3",
      "display_name": "Python 3"
    },
    "language_info": {
      "name": "python"
    },
    "accelerator": "GPU"
  },
  "cells": [
    {
      "cell_type": "markdown",
      "source": [
        "Чтобы доказать алгоритм равенства классов P и PN с помощью нейронной сети, мы можем обучить уникальную модель нейронной сети в Python. Хотя создать действительно уникальную архитектуру нейронной сети, не имеющую аналогов, сложно, я могу предоставить пример программы, демонстрирующей концепцию использования нейронной сети для решения задачи бинарной классификации и построения графика соответствующей функции.\n",
        "\n",
        "Вот пример программы, которая реализует нейронную сеть для решения задачи классификации и визуализации границы решения:\n",
        "\n"
      ],
      "metadata": {
        "id": "cN18BU9oIWIx"
      }
    },
    {
      "cell_type": "code",
      "source": [
        "import numpy as np\n",
        "import matplotlib.pyplot as plt\n",
        "from sklearn.neural_network import MLPClassifier\n",
        "\n",
        "def solve_classification_problem():\n",
        "    # Определить обучающие данные\n",
        "    X = np.array([[1], [2], [3], [4], [6], [7], [8], [9]])  # Входные функции\n",
        "    y = np.array([0, 0, 0, 0, 1, 1, 1, 1])  # Метки классов (0 или 1)\n",
        "\n",
        "    # Создайте и обучите модель нейронной сети\n",
        "    model = MLPClassifier(hidden_layer_sizes=(10,), activation='relu', solver='adam', random_state=42)\n",
        "    model.fit(X, y)\n",
        "\n",
        "    # Создание точек данных для визуализации\n",
        "    x_range = np.linspace(0, 10, 100).reshape(-1, 1)\n",
        "    y_range = model.predict(x_range)\n",
        "\n",
        "    # Постройте границу решения\n",
        "    plt.plot(X[y == 0], y[y == 0], 'ro', label='Class 0')\n",
        "    plt.plot(X[y == 1], y[y == 1], 'bo', label='Class 1')\n",
        "    plt.plot(x_range, y_range, 'g-', label='Граница принятия решения')\n",
        "    plt.xlabel('x')\n",
        "    plt.ylabel('y')\n",
        "    plt.legend()\n",
        "\n",
        "    # Проверьте, правильно ли модель классифицирует x = 5,5.\n",
        "    x_test = np.array([[5.5]])\n",
        "    y_test = model.predict(x_test)\n",
        "    if y_test == 0:\n",
        "        plt.plot(x_test, y_test, 'go', label='Test Point (Class 0)')\n",
        "    else:\n",
        "        plt.plot(x_test, y_test, 'go', label='Test Point (Class 1)')\n",
        "\n",
        "    plt.show()\n",
        "\n",
        "    # Выведите предсказанный класс x = 5.5\n",
        "    if y_test == 0:\n",
        "        print(\"Модель предсказывает, что x = 5,5 принадлежит классу 0.\")\n",
        "    else:\n",
        "        print(\"Модель предсказывает, что x = 5,5 принадлежит классу 1.\")\n",
        "\n",
        "solve_classification_problem()\n"
      ],
      "metadata": {
        "colab": {
          "base_uri": "https://localhost:8080/",
          "height": 521
        },
        "id": "juVzIPp7V69_",
        "outputId": "498e63fc-6ce4-4a3a-c84a-50a55df0ed6f"
      },
      "execution_count": 6,
      "outputs": [
        {
          "output_type": "stream",
          "name": "stderr",
          "text": [
            "/usr/local/lib/python3.10/dist-packages/sklearn/neural_network/_multilayer_perceptron.py:686: ConvergenceWarning: Stochastic Optimizer: Maximum iterations (200) reached and the optimization hasn't converged yet.\n",
            "  warnings.warn(\n"
          ]
        },
        {
          "output_type": "display_data",
          "data": {
            "text/plain": [
              "<Figure size 640x480 with 1 Axes>"
            ],
            "image/png": "[encoded data removed]"
          },
          "metadata": {}
        },
        {
          "output_type": "stream",
          "name": "stdout",
          "text": [
            "Модель предсказывает, что x = 5,5 принадлежит классу 1.\n"
          ]
        }
      ]
    },
    {
      "cell_type": "markdown",
      "source": [
        "В этой программе:\n",
        "\n",
        "1. Мы определяем обучающие данные X и метки классов y. X содержит входные функции (в данном случае только значения x), а y содержит соответствующие метки классов (0 или 1).\n",
        "\n",
        "2. Мы создаем модель нейронной сети, используя класс MLPClassifier из scikit-learn. Модель имеет один скрытый слой с 10 единицами, использует функцию активации ReLU и обучается с помощью оптимизатора Adam.\n",
        "\n",
        "3. Мы подгоняем модель к обучающим данным, используя метод подгонки.\n",
        "\n",
        "4. Мы генерируем диапазон значений x для целей визуализации и прогнозируем соответствующие метки классов, используя обученную модель.\n",
        "\n",
        "5. Мы наносим точки обучающих данных, границу решения (линию, разделяющую два класса) и прогнозируемый класс контрольной точки x = 5,5.\n",
        "\n",
        "6. Наконец, мы отображаем график и печатаем предсказанный класс x = 5,5.\n",
        "\n",
        "Запуск этой программы покажет график с границей решения и предоставит прогнозируемый класс x = 5,5 на основе модели обученной нейронной сети.\n",
        "\n",
        "\n",
        "\n",
        "\n",
        "\n"
      ],
      "metadata": {
        "id": "5kfbZVCJIpsQ"
      }
    }
  ]
}