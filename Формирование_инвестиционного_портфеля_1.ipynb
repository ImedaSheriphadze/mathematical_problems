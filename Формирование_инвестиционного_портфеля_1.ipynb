{
  "cells": [
    {
      "cell_type": "code",
      "source": [
        "import pandas as pd\n",
        "import yfinance as yf\n",
        "import matplotlib.pyplot as plt\n",
        "import numpy as np\n",
        "from scipy.optimize import minimize"
      ],
      "metadata": {
        "id": "0XpyhG7SU5xP"
      },
      "execution_count": null,
      "outputs": []
    },
    {
      "cell_type": "code",
      "source": [
        "# Шаг 1. Получите финансовые данные из онлайн-источника\n",
        "tickers = ['AAPL', 'GOOGL', 'AMZN', 'MSFT', 'FB']  # Список символов тикера\n",
        "start_date = '2019-01-01'  # Дата начала получения данных\n",
        "end_date = '2024-01-01'  # Дата окончания получения данных"
      ],
      "metadata": {
        "id": "D2OyyJOAS9YB"
      },
      "execution_count": null,
      "outputs": []
    },
    {
      "cell_type": "code",
      "source": [
        "# Получить исторические данные о ценах с помощью библиотеки yfinance\n",
        "data = yf.download(tickers, start=start_date, end=end_date)['Adj Close']"
      ],
      "metadata": {
        "colab": {
          "base_uri": "https://localhost:8080/"
        },
        "id": "uNMjjjvRTNuc",
        "outputId": "81255384-5d14-4466-af75-9a357c10c999"
      },
      "execution_count": null,
      "outputs": [
        {
          "output_type": "stream",
          "name": "stdout",
          "text": [
            "[*********************100%***********************]  5 of 5 completed\n",
            "\n",
            "1 Failed download:\n",
            "- FB: No timezone found, symbol may be delisted\n"
          ]
        }
      ]
    },
    {
      "cell_type": "code",
      "source": [
        "# Шаг 2. Предварительная обработка и анализ данных\n",
        "# Рассчитайте возвраты и сохраните их в новом DataFrame\n",
        "returns = data.pct_change().dropna()"
      ],
      "metadata": {
        "id": "ZtP5wA7_TV_6"
      },
      "execution_count": null,
      "outputs": []
    },
    {
      "cell_type": "code",
      "source": [
        "# Рассчитать среднюю доходность и ковариационную матрицу\n",
        "mean_returns = returns.mean()\n",
        "cov_matrix = returns.cov()"
      ],
      "metadata": {
        "colab": {
          "base_uri": "https://localhost:8080/"
        },
        "id": "H_ji3GLRTbHj",
        "outputId": "56ab0ae6-d265-4bef-d36a-3fadb4ec50e0"
      },
      "execution_count": null,
      "outputs": [
        {
          "output_type": "stream",
          "name": "stderr",
          "text": [
            "/usr/local/lib/python3.10/dist-packages/numpy/lib/function_base.py:495: RuntimeWarning: Mean of empty slice.\n",
            "  avg = a.mean(axis)\n",
            "/usr/local/lib/python3.10/dist-packages/numpy/core/_methods.py:181: RuntimeWarning: invalid value encountered in true_divide\n",
            "  ret = um.true_divide(\n",
            "/usr/local/lib/python3.10/dist-packages/pandas/core/frame.py:10474: RuntimeWarning: Degrees of freedom <= 0 for slice\n",
            "  base_cov = np.cov(mat.T, ddof=ddof)\n",
            "/usr/local/lib/python3.10/dist-packages/numpy/lib/function_base.py:2680: RuntimeWarning: divide by zero encountered in true_divide\n",
            "  c *= np.true_divide(1, fact)\n",
            "/usr/local/lib/python3.10/dist-packages/numpy/lib/function_base.py:2680: RuntimeWarning: invalid value encountered in multiply\n",
            "  c *= np.true_divide(1, fact)\n"
          ]
        }
      ]
    },
    {
      "cell_type": "code",
      "source": [
        "# Шаг 3: Определите функцию оптимизации\n",
        "def portfolio_optimization(weights, mean_returns, cov_matrix):\n",
        "    # Рассчитать доходность портфеля\n",
        "    portfolio_return = np.sum(mean_returns * weights)\n",
        "\n",
        "    # Рассчитать риск портфеля (стандартное отклонение)\n",
        "    portfolio_risk = np.sqrt(np.dot(weights.T, np.dot(cov_matrix, weights)))\n",
        "\n",
        "    # Верните отрицательный коэффициент Шарпа в качестве цели, которую нужно минимизировать.\n",
        "    sharpe_ratio = portfolio_return / portfolio_risk\n",
        "    return -sharpe_ratio"
      ],
      "metadata": {
        "id": "3fxUItPTTgc0"
      },
      "execution_count": null,
      "outputs": []
    },
    {
      "cell_type": "code",
      "source": [
        "# Шаг 4. Выполните оптимизацию портфеля\n",
        "num_assets = len(tickers)  # Количество активов в портфеле\n",
        "initial_weights = np.ones(num_assets) / num_assets  # Равные начальные веса"
      ],
      "metadata": {
        "id": "W-rs1GCUTn31"
      },
      "execution_count": null,
      "outputs": []
    },
    {
      "cell_type": "code",
      "source": [
        "# Установите границы оптимизации: веса от 0 до 1\n",
        "bounds = [(0, 1)] * num_assets"
      ],
      "metadata": {
        "id": "-KxCh1qbTuw1"
      },
      "execution_count": null,
      "outputs": []
    },
    {
      "cell_type": "code",
      "source": [
        "# Выполните оптимизацию портфеля с помощью функции минимизации из SciPy.\n",
        "result = minimize(portfolio_optimization, initial_weights, args=(mean_returns, cov_matrix),\n",
        "                  method='SLSQP', bounds=bounds, constraints=({'type': 'eq', 'fun': lambda x: np.sum(x) - 1}))"
      ],
      "metadata": {
        "id": "7tPcHOZpT45X"
      },
      "execution_count": null,
      "outputs": []
    },
    {
      "cell_type": "code",
      "source": [
        "# Извлечение оптимизированных весов из результата\n",
        "optimized_weights = result.x"
      ],
      "metadata": {
        "id": "0rPFsqmwT-u8"
      },
      "execution_count": null,
      "outputs": []
    },
    {
      "cell_type": "code",
      "source": [
        "# Рассчитать оптимизированные показатели портфеля\n",
        "portfolio_return = np.sum(mean_returns * optimized_weights)\n",
        "portfolio_risk = np.sqrt(np.dot(optimized_weights.T, np.dot(cov_matrix, optimized_weights)))"
      ],
      "metadata": {
        "id": "lvUZCfMzUF_3"
      },
      "execution_count": null,
      "outputs": []
    },
    {
      "cell_type": "code",
      "source": [
        "# Шаг 5. Визуализируйте результаты\n",
        "# Создайте круговую диаграмму для отображения распределения портфеля\n",
        "fig, ax = plt.subplots()\n",
        "ax.pie(optimized_weights, labels=tickers, autopct='%1.1f%%')\n",
        "ax.set_aspect('equal')\n",
        "ax.set_title('Распределение портфеля')"
      ],
      "metadata": {
        "colab": {
          "base_uri": "https://localhost:8080/",
          "height": 445
        },
        "id": "QWgxaS-LUMTX",
        "outputId": "9221eba2-872c-4692-dc96-a33732334c23"
      },
      "execution_count": null,
      "outputs": [
        {
          "output_type": "execute_result",
          "data": {
            "text/plain": [
              "Text(0.5, 1.0, 'Распределение портфеля')"
            ]
          },
          "metadata": {},
          "execution_count": 200
        },
        {
          "output_type": "display_data",
          "data": {
            "text/plain": [
              "<Figure size 640x480 with 1 Axes>"
            ],
            "image/png": "[encoded data removed]"
          },
          "metadata": {}
        }
      ]
    },
    {
      "cell_type": "code",
      "source": [
        "# Отображение оптимизированных показателей портфеля\n",
        "print(f\"Оптимизированная доходность портфеля: {portfolio_return:.4f}\")\n",
        "print(f\"Оптимизированный риск портфеля: {portfolio_risk:.4f}\")"
      ],
      "metadata": {
        "colab": {
          "base_uri": "https://localhost:8080/"
        },
        "id": "oZtpdiRjUZbz",
        "outputId": "baee87d9-6e18-4a1e-c36c-034cbfee7543"
      },
      "execution_count": null,
      "outputs": [
        {
          "output_type": "stream",
          "name": "stdout",
          "text": [
            "Оптимизированная доходность портфеля: 0.0000\n",
            "Оптимизированный риск портфеля: nan\n"
          ]
        }
      ]
    },
    {
      "cell_type": "code",
      "source": [
        "# Show the pie chart\n",
        "plt.show()"
      ],
      "metadata": {
        "id": "7DF_BkmXUdc3"
      },
      "execution_count": null,
      "outputs": []
    }
  ],
  "metadata": {
    "accelerator": "GPU",
    "colab": {
      "provenance": [],
      "authorship_tag": "ABX9TyPZ50nsEbXjBWGwwwS3VxeC"
    },
    "gpuClass": "standard",
    "kernelspec": {
      "display_name": "Python 3",
      "name": "python3"
    },
    "language_info": {
      "name": "python"
    }
  },
  "nbformat": 4,
  "nbformat_minor": 0
}